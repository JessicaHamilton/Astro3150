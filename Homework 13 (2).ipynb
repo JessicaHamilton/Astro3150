{
 "cells": [
  {
   "cell_type": "markdown",
   "metadata": {},
   "source": [
    "Jessica Hamilton\n",
    "Homework 13\n",
    "\n",
    "Problems:\n",
    "\n",
    "Suppose the mass density throughout the interior of a star can be described as a function of radial position (distance from the center) such that\n",
    "$$\\rho(r) = \\rho_{0}[1-(\\frac{r}{R_{*}})^{2}]$$ where R_{*} is the total radius of the star and \\rho_{0} is the star's central density.\n",
    "1. Find the total mass, M_{*}, of the star in terms of \\rho_0 and R_{*}.\n",
    "$$dm = 4\\pi r^2\\rho dr$$\n",
    "$$M_{*} = \\int4\\pi r^2\\rho(r) dr$$\n",
    "\n",
    "With density varying over the radius we must use the expression above to account for the variance.\n",
    "\n",
    "$$M_{*} = \\int_0^R 4\\pi r^2\\rho_{0}[1-(\\frac{r}{R_{*}})^2] dr$$\n",
    "$$M_{*} =  4\\pi r^2\\rho_{0} \\int_0^R r^2[1-(\\frac{r}{R_{*}})^2] dr$$\n",
    "$$M_{*} =  4\\pi r^2\\rho_{0} *(\\frac{5}{15R_{*}}-\\frac{3r^2}{15R_{*}^2})$$\n",
    "$$M_{*} = 8\\pi \\rho (\\frac{r^2}{15R_{*}^2})$$\n",
    "\n",
    "\n",
    "2. Find the mean density of the star in terms of \\rho_{0}.\n",
    "$$Density = \\frac{mass}{volume} = \\rho$$\n",
    "$$\\rho_{0} = \\frac{3M_{*}}{4\\pi R_{*}^3}$$\n",
    "$$\\rho = \\rho_{0}$$\n",
    "\n",
    "\n",
    "3. Derive an expression for the pressure as a function of radial position within the star, r. \n",
    "$$\\frac{dP}{dr} = \\frac{-GM_{r}\\rho_{r}}{r^2}$$\n",
    "$$\\frac{dP}{dr} =\\frac{-G[4\\pi \\rho_{0} r^3(\\frac{1}{3} - \\frac{r^2}{5R_{*}^2})][\\rho_{0}(1 - (\\frac{r}{R_{*}^2})]}{r^2}$$\n",
    "$$\\frac{dP}{dr} =\\frac{-G\\rho_{0}[4\\pi \\rho_{0} r^3(\\frac{1}{3} - \\frac{r^2}{5R_{*}^2})][(1 - (\\frac{r}{R_{*}^2})]}{r^2}$$\n",
    "$$[4\\pi \\rho_{0} r^3(\\frac{1}{3} - \\frac{r^2}{5R_{*}^2})][(1 - (\\frac{r}{R_{*}^2})]=$$\n",
    "$$\\frac{4\\pi r^3}{3} - [\\frac{4\\pi r^3}{3}*(\\frac{r^2}{R_{*}^2})] - \\frac{4\\pi r^5}{5R_{*}^2} + [\\frac{4\\pi r^5}{5R_{*}^2}* (\\frac{r^2}{R_{*}^2})]$$\n",
    "$$\\frac{4\\pi r^3}{3} - \\frac{4\\pi r^5}{3R_{*}^2} - \\frac{4\\pi r^5}{5R_{*}^2} + \\frac{4\\pi r^7}{5R_{*}^4}$$\n",
    "$$\\frac{4\\pi r^3}{3} - \\frac{32\\pi r^5}{15R_{*}^2} + \\frac{4\\pi r^7}{5R_{*}^4}$$\n",
    "$$\\frac{\\frac{4\\pi r^3}{3} - \\frac{32\\pi r^5}{15R_{*}^2} + \\frac{4\\pi r^7}{5R_{*}^4}}{r^2}$$\n",
    "$$\\frac{4\\pi r}{3} - \\frac{32\\pi r3}{15R_{*}^2} + \\frac{4\\pi r^5}{5R_{*}^4}$$\n",
    "$$\\frac{dP}{dr} = -G\\rho_{0}^2 (\\frac{4\\pi r}{3} - \\frac{8 r^3}{15R_{*}^2} + \\frac{r^5}{5R_{*}^4}) dr$$\n",
    "$$P(r) = -4\\pi G\\rho_{0}^2 \\int_0^r (\\frac{r}{3} - \\frac{8 r^3}{15R_{*}^2} + \\frac{r^5}{5R_{*}^4}) dr$$\n",
    "$$P(r) = -4\\pi G\\rho_{0}^2  (\\frac{r^2}{6} - \\frac{8r^4}{60R_{*}^2} + \\frac{r^6}{30R_{*}^4}) |_0^r $$\n",
    "$$P(r) = -4\\pi r^2 G\\rho_{0}^2  (\\frac{1}{6} - \\frac{2r^2}{15R_{*}^2} + \\frac{r^4}{30R_{*}^4}) + p(c) $$\n",
    "\n",
    "\n",
    "\n",
    "\n",
    "4. Show that the central pressure of the star is\n",
    "$$P_{c} = \\frac{15}{16\\pi}\\frac{GM_{*}^2}{R_{*}^4}$$\n",
    "\n",
    "Taking the expression noted above we can solve for the p(c) which will be with respect to R_*. \n",
    "$$P(r) = -4\\pi R_{*}^2 G\\rho_{0}^2  (\\frac{1}{6} - \\frac{2R_{*}^2}{15R_{*}^2} + \\frac{R_{*}^4}{30R_{*}^4}) + p(c) $$\n",
    "$$0 = -4\\pi R_{*}^2 G\\rho_{0}^2  (\\frac{1}{6} - \\frac{2R_{*}^2}{15R_{*}^2} + \\frac{R_{*}^4}{30R_{*}^4}) + p(c)$$\n",
    "$$P(c) = -4\\pi R_{*}^2 G\\rho_{0}^2  (\\frac{1}{6} - \\frac{2R_{*}^2}{15R_{*}^2} + \\frac{R_{*}^4}{30R_{*}^4})$$\n",
    "$$P(c) = -4\\pi R_{*}^2 G\\rho_{0}^2  (\\frac{1}{6} - \\frac{4R_{*}^4}{30R_{*}^2} + \\frac{R_{*}^4}{30R_{*}^4})$$\n",
    "$$=4\\pi R_{*}^2G\\rho_{0}^2 (\\frac{2R_{*}}{30R_{*}}$$\n",
    "$$=4\\pi R_{*}^2G\\rho_{0}^2 (\\frac{1}{15})$$\n",
    "$$=4\\pi R_{*}^2G(\\frac{15M_{*}}{8\\pi R_{*}^3})^2\\frac{1}{15}$$\n",
    "$$=4R_{*}^2G(\\frac{15M_{*}^2}{64\\pi R_{*}^6})$$\n",
    "$$P(c) =\\frac{15GM_{*}^2}{16\\pi R_{*}^4}$$\n",
    "\n",
    "5. Find the central temperature assuming the central regions of the star can be accurately described as a fully ionized, ideal gas.\n",
    "$$T(r) : P = nkT$$\n",
    "$$P = nkT = \\frac{\\rho}{\\mu m_{p}} kT$$\n",
    "$$P(c) = \\frac{\\rho}{\\mu m_{p}} kT$$\n",
    "$$\\frac{15GM_{*}^2}{16\\pi R_{*}^4} = \\frac{\\rho}{\\mu m_{p}}kT(r) $$\n",
    "$$\\frac{15GM_{*}^2}{16\\pi R_{*}^4} * \\frac{\\mu m_{p}}{\\rho} = kT(r) $$\n",
    "$$\\frac{\\frac{15GM_{*}^2}{16\\pi R_{*}^4} * \\frac{\\mu m_{p}}{\\rho}}{k} = T(r) $$\n",
    "\n",
    "6. In a jupiter notebook, plot the central pressure and central temperature as a function of total stellar mass assuming \n",
    "$$R_{*} = M_{*}^{0.7}$$ where R_{*} and M_{*} are in solar units.\n",
    "7. Describe your results and compare them to your results for the constant density model (lecture example). What conclusions can you draw from this analytic stellar model? In particular, consider that hydrogen fusion begins modestly at a temperature of about 10 MK. \n",
    "\n",
    "It seems that pressure and temperature is dependent upon the radius and the mass of the star. In class we noted how the radius is also dependant upon the mass. So with a varying density instead of a constant density, the temperature and pressure increase as you move closer to the center. The temperature is inversely proportional to the radius if we assume the radius increases from the center outward. As you move outward, increase the radius, the pressure actually decreases which means they are also inversely proportional. If you add mass, you will increase the pressure and the temperature. All of this makes sense logically and the trends are the same as with the as the constant density, but more simplistic.  "
   ]
  },
  {
   "cell_type": "code",
   "execution_count": 6,
   "metadata": {},
   "outputs": [],
   "source": [
    "import numpy as np\n",
    "%matplotlib inline\n",
    "import matplotlib.pyplot as plt\n",
    "from astropy import constants as const"
   ]
  },
  {
   "cell_type": "code",
   "execution_count": 12,
   "metadata": {},
   "outputs": [],
   "source": [
    "g = 6.67408e-11\n",
    "m_star = 1.98847542e+30\n",
    "r_sun = 695700000\n",
    "\n",
    "def press(x):\n",
    "    p = [ (15) / (16 * 3.1415926) ]* [6.67408e-11*(x*m_star^2) / (m_star^0.7)^4]\n",
    "    \n",
    "    return P\n",
    "\n",
    "def temp(x):\n",
    "    t = []"
   ]
  },
  {
   "cell_type": "code",
   "execution_count": 13,
   "metadata": {},
   "outputs": [
    {
     "ename": "TypeError",
     "evalue": "unsupported operand type(s) for ^: 'float' and 'int'",
     "output_type": "error",
     "traceback": [
      "\u001b[1;31m---------------------------------------------------------------------------\u001b[0m",
      "\u001b[1;31mTypeError\u001b[0m                                 Traceback (most recent call last)",
      "\u001b[1;32m<ipython-input-13-9f0d2b3acad2>\u001b[0m in \u001b[0;36m<module>\u001b[1;34m()\u001b[0m\n\u001b[0;32m      1\u001b[0m \u001b[0mx\u001b[0m \u001b[1;33m=\u001b[0m \u001b[0mnp\u001b[0m\u001b[1;33m.\u001b[0m\u001b[0marange\u001b[0m\u001b[1;33m(\u001b[0m\u001b[1;36m1\u001b[0m\u001b[1;33m,\u001b[0m \u001b[1;36m20\u001b[0m\u001b[1;33m,\u001b[0m \u001b[1;36m1\u001b[0m\u001b[1;33m)\u001b[0m\u001b[1;33m\u001b[0m\u001b[0m\n\u001b[1;32m----> 2\u001b[1;33m \u001b[0mplt\u001b[0m\u001b[1;33m.\u001b[0m\u001b[0mplot\u001b[0m\u001b[1;33m(\u001b[0m\u001b[0mpress\u001b[0m\u001b[1;33m(\u001b[0m\u001b[1;36m1\u001b[0m\u001b[1;33m)\u001b[0m\u001b[1;33m)\u001b[0m\u001b[1;33m\u001b[0m\u001b[0m\n\u001b[0m",
      "\u001b[1;32m<ipython-input-12-8116183a7e74>\u001b[0m in \u001b[0;36mpress\u001b[1;34m(x)\u001b[0m\n\u001b[0;32m      4\u001b[0m \u001b[1;33m\u001b[0m\u001b[0m\n\u001b[0;32m      5\u001b[0m \u001b[1;32mdef\u001b[0m \u001b[0mpress\u001b[0m\u001b[1;33m(\u001b[0m\u001b[0mx\u001b[0m\u001b[1;33m)\u001b[0m\u001b[1;33m:\u001b[0m\u001b[1;33m\u001b[0m\u001b[0m\n\u001b[1;32m----> 6\u001b[1;33m     \u001b[0mp\u001b[0m \u001b[1;33m=\u001b[0m \u001b[1;33m[\u001b[0m \u001b[1;33m(\u001b[0m\u001b[1;36m15\u001b[0m\u001b[1;33m)\u001b[0m \u001b[1;33m/\u001b[0m \u001b[1;33m(\u001b[0m\u001b[1;36m16\u001b[0m \u001b[1;33m*\u001b[0m \u001b[1;36m3.1415926\u001b[0m\u001b[1;33m)\u001b[0m \u001b[1;33m]\u001b[0m\u001b[1;33m*\u001b[0m \u001b[1;33m[\u001b[0m\u001b[1;36m6.67408e-11\u001b[0m\u001b[1;33m*\u001b[0m\u001b[1;33m(\u001b[0m\u001b[0mx\u001b[0m\u001b[1;33m*\u001b[0m\u001b[0mm_star\u001b[0m\u001b[1;33m^\u001b[0m\u001b[1;36m2\u001b[0m\u001b[1;33m)\u001b[0m \u001b[1;33m/\u001b[0m \u001b[1;33m(\u001b[0m\u001b[0mm_star\u001b[0m\u001b[1;33m^\u001b[0m\u001b[1;36m0.7\u001b[0m\u001b[1;33m)\u001b[0m\u001b[1;33m^\u001b[0m\u001b[1;36m4\u001b[0m\u001b[1;33m]\u001b[0m\u001b[1;33m\u001b[0m\u001b[0m\n\u001b[0m\u001b[0;32m      7\u001b[0m \u001b[1;33m\u001b[0m\u001b[0m\n\u001b[0;32m      8\u001b[0m     \u001b[1;32mreturn\u001b[0m \u001b[0mP\u001b[0m\u001b[1;33m\u001b[0m\u001b[0m\n",
      "\u001b[1;31mTypeError\u001b[0m: unsupported operand type(s) for ^: 'float' and 'int'"
     ]
    }
   ],
   "source": [
    "x = np.arange(1, 20, 1)\n",
    "plt.plot(press(1))"
   ]
  },
  {
   "cell_type": "code",
   "execution_count": null,
   "metadata": {},
   "outputs": [],
   "source": []
  }
 ],
 "metadata": {
  "kernelspec": {
   "display_name": "Python 3",
   "language": "python",
   "name": "python3"
  },
  "language_info": {
   "codemirror_mode": {
    "name": "ipython",
    "version": 3
   },
   "file_extension": ".py",
   "mimetype": "text/x-python",
   "name": "python",
   "nbconvert_exporter": "python",
   "pygments_lexer": "ipython3",
   "version": "3.6.5"
  }
 },
 "nbformat": 4,
 "nbformat_minor": 2
}
