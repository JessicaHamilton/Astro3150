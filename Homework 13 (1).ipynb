{
 "cells": [
  {
   "cell_type": "markdown",
   "metadata": {},
   "source": [
    "Jessica Hamilton\n",
    "Homework 13\n",
    "\n",
    "Problems:\n",
    "\n",
    "Suppose the mass density throughout the interior of a star can be described as a function of radial position (distance from the center) such that\n",
    "$$\\rho(r) = \\rho_{0}[1-(\\frac{r}{R_{*}})^{2}]$$ where R_{*} is the total radius of the star and \\rho_{0} is the star's central density.\n",
    "1. Find the total mass, M_{*}, of the star in terms of \\rho_0 and R_{*}.\n",
    "$$dm = 4\\pi r^2\\rho dr$$\n",
    "$$M_{*} = \\int4\\pi r^2\\rho(r) dr$$\n",
    "\n",
    "With density varying over the radius we must use the expression above to account for the variance.\n",
    "\n",
    "$$M_{*} = \\int_0^R 4\\pi r^2\\rho_{0}[1-(\\frac{r}{R_{*}})^2] dr$$\n",
    "$$M_{*} =  4\\pi r^2\\rho_{0} \\int_0^R r^2[1-(\\frac{r}{R_{*}})^2] dr$$\n",
    "$$M_{*} =  4\\pi r^2\\rho_{0} *(\\frac{5}{15R_{*}}-\\frac{3r^2}{15R_{*}^2})$$\n",
    "$$M_{*} = 8\\pi \\rho (\\frac{r^2}{15R_{*}^2})$$\n",
    "\n",
    "\n",
    "2. Find the mean density of the star in terms of \\rho_{0}.\n",
    "$$Density = \\frac{mass}{volume} = \\rho$$\n",
    "$$\\rho_{0} = \\frac{3M_{*}}{4\\pi R_{*}^3}$$\n",
    "$$\\rho = \\rho_{0}$$\n",
    "\n",
    "\n",
    "3. Derive an expression for the pressure as a function of radial position within the star, r. \n",
    "$$\\frac{dP}{dr} = \\frac{-GM_{r}\\rho_{r}}{r^2}$$\n",
    "$$\\frac{dP}{dr} =\\frac{-G[4\\pi \\rho_{0} r^3(\\frac{1}{3} - \\frac{r^2}{5R_{*}^2})][\\rho_{0}(1 - (\\frac{r}{R_{*}^2})]}{r^2}$$\n",
    "$$\\frac{dP}{dr} =\\frac{-G\\rho_{0}[4\\pi \\rho_{0} r^3(\\frac{1}{3} - \\frac{r^2}{5R_{*}^2})][(1 - (\\frac{r}{R_{*}^2})]}{r^2}$$\n",
    "$$[4\\pi \\rho_{0} r^3(\\frac{1}{3} - \\frac{r^2}{5R_{*}^2})][(1 - (\\frac{r}{R_{*}^2})]=$$\n",
    "$$\\frac{4\\pi r^3}{3} - [\\frac{4\\pi r^3}{3}*(\\frac{r^2}{R_{*}^2})] - \\frac{4\\pi r^5}{5R_{*}^2} + [\\frac{4\\pi r^5}{5R_{*}^2}* (\\frac{r^2}{R_{*}^2})]$$\n",
    "$$\\frac{4\\pi r^3}{3} - \\frac{4\\pi r^5}{3R_{*}^2} - \\frac{4\\pi r^5}{5R_{*}^2} + \\frac{4\\pi r^7}{5R_{*}^4}$$\n",
    "$$\\frac{4\\pi r^3}{3} - \\frac{32\\pi r^5}{15R_{*}^2} + \\frac{4\\pi r^7}{5R_{*}^4}$$\n",
    "$$\\frac{\\frac{4\\pi r^3}{3} - \\frac{32\\pi r^5}{15R_{*}^2} + \\frac{4\\pi r^7}{5R_{*}^4}}{r^2}$$\n",
    "$$\\frac{4\\pi r}{3} - \\frac{32\\pi r3}{15R_{*}^2} + \\frac{4\\pi r^5}{5R_{*}^4}$$\n",
    "$$\\frac{dP}{dr} = -G\\rho_{0}^2 (\\frac{4\\pi r}{3} - \\frac{8 r^3}{15R_{*}^2} + \\frac{r^5}{5R_{*}^4}) dr$$\n",
    "$$P(r) = -4\\pi G\\rho_{0}^2 \\int_0^r (\\frac{r}{3} - \\frac{8 r^3}{15R_{*}^2} + \\frac{r^5}{5R_{*}^4}) dr$$\n",
    "$$P(r) = -4\\pi G\\rho_{0}^2  (\\frac{r^2}{6} - \\frac{8r^4}{60R_{*}^2} + \\frac{r^6}{30R_{*}^4}) |_0^r $$\n",
    "$$P(r) = -4\\pi r^2 G\\rho_{0}^2  (\\frac{1}{6} - \\frac{2r^2}{15R_{*}^2} + \\frac{r^4}{30R_{*}^4}) $$\n",
    "\n",
    "\n",
    "\n",
    "\n",
    "4. Show that the central pressure of the star is\n",
    "$$P_{c} = \\frac{15}{16\\pi}\\frac{GM_{*}^2}{R_{*}^4}$$\n",
    "\n",
    "We can start by finding the change in pressure over the change in radius.\n",
    "$$\\frac{\\Delta P}{\\Delta r} = \\frac{P_{s} - P_{c}}{R_{s} - R_{c}}$$\n",
    "$$\\frac{-P_{c}}{R_{*}} = \\frac{GM_{*}}{2} \\frac{3M_{*}}{4\\pi R_{*}^4} \\frac{4}{R_{*}^4}$$\n",
    "$$P_{c} = \\frac{3G}{2\\pi}*\\frac{M_{*}^2}{R_{*}^4}$$\n",
    "\n",
    "\n",
    "5. Find the central temperature assuming the central regions of the star can be accurately described as a fully ionized, ideal gas.\n",
    "$$T(r) : P = nkT$$\n",
    "$$P = nkT = \\frac{\\rho}{\\mu m_{p}} kT$$\n",
    "$$P(r) = \\frac{\\rho}{\\mu m_{p}}$$\n",
    "$$\\frac{2\\pi G}{3} \\rho_{0}^2 [1-(\\frac{r}{R_{*}})^2] = \\frac{\\rho}{\\mu m_{p}} kT(r)$$\n",
    "$$T(r) = \\frac{2\\pi G\\mu m_{p}\\rho_{0}}{3k} [1 - \\frac{r}{R_{*}}^2]$$\n",
    "or \n",
    "$$T(r) = \\frac{2\\pi G}{3k} \\mu m_{p}\\rho_{0} R_{*}^2$$\n",
    "\n",
    "6. In a jupiter notebook, plot the central pressure and central temperature as a function of total stellar mass assuming \n",
    "$$R_{*} = M_{*}^{0.7}$$ where R_{*} and M_{*} are in solar units.\n",
    "7. Describe your results and compare them to your results for the constant density model (lecture example). What conclusions can you draw from this analytic stellar model? In particular, consider that hydrogen fusion begins modestly at a temperature of about 10 MK. "
   ]
  },
  {
   "cell_type": "code",
   "execution_count": 4,
   "metadata": {},
   "outputs": [],
   "source": [
    "import numpy as np\n",
    "%matplotlib inline\n",
    "import matplotlib.pyplot as plt\n",
    "from astropy import constants as const"
   ]
  },
  {
   "cell_type": "code",
   "execution_count": 1,
   "metadata": {},
   "outputs": [],
   "source": [
    "g = 6.67408e-11\n",
    "m_sun = 1.98847542e+30\n",
    "r_sun = 695700000\n",
    "\n",
    "def press(x):\n",
    "    p = [ (15) / (16 * 3.1415926) ]* [6.67408e-11*(x * 1.98847542e+30)^2 / (695700000)^4]\n",
    "    t = []\n",
    "    return P\n"
   ]
  },
  {
   "cell_type": "code",
   "execution_count": 2,
   "metadata": {},
   "outputs": [
    {
     "ename": "NameError",
     "evalue": "name 'plt' is not defined",
     "output_type": "error",
     "traceback": [
      "\u001b[1;31m---------------------------------------------------------------------------\u001b[0m",
      "\u001b[1;31mNameError\u001b[0m                                 Traceback (most recent call last)",
      "\u001b[1;32m<ipython-input-2-48a818697264>\u001b[0m in \u001b[0;36m<module>\u001b[1;34m()\u001b[0m\n\u001b[1;32m----> 1\u001b[1;33m \u001b[0mplt\u001b[0m\u001b[1;33m.\u001b[0m\u001b[0mplot\u001b[0m\u001b[1;33m(\u001b[0m\u001b[0mpress\u001b[0m\u001b[1;33m(\u001b[0m\u001b[1;36m0.7\u001b[0m\u001b[1;33m)\u001b[0m\u001b[1;33m)\u001b[0m\u001b[1;33m\u001b[0m\u001b[0m\n\u001b[0m",
      "\u001b[1;31mNameError\u001b[0m: name 'plt' is not defined"
     ]
    }
   ],
   "source": [
    "plt.plot(press(0.7))"
   ]
  },
  {
   "cell_type": "code",
   "execution_count": null,
   "metadata": {},
   "outputs": [],
   "source": []
  }
 ],
 "metadata": {
  "kernelspec": {
   "display_name": "Python 3",
   "language": "python",
   "name": "python3"
  },
  "language_info": {
   "codemirror_mode": {
    "name": "ipython",
    "version": 3
   },
   "file_extension": ".py",
   "mimetype": "text/x-python",
   "name": "python",
   "nbconvert_exporter": "python",
   "pygments_lexer": "ipython3",
   "version": "3.6.5"
  }
 },
 "nbformat": 4,
 "nbformat_minor": 2
}
